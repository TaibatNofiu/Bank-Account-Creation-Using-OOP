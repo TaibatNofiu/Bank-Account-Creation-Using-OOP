{
 "cells": [
  {
   "cell_type": "code",
   "execution_count": 5,
   "id": "a6159409",
   "metadata": {},
   "outputs": [],
   "source": [
    "class BankAccount:\n",
    "    def __init__(self, account_number, account_balance, account_holder):\n",
    "        self.account_number = account_number  # Public attribute\n",
    "        self.__account_balance = account_balance  # Private attribute\n",
    "        self.account_holder = account_holder\n",
    "\n",
    "    def deposit(self, amount):\n",
    "        if amount > 0:\n",
    "            self.__account_balance += amount\n",
    "\n",
    "    def withdraw(self, amount):\n",
    "        if 0 < amount <= self.__account_balance:\n",
    "            self.__account_balance -= amount\n",
    "\n",
    "    def get_balance(self):\n",
    "        return self.__account_balance"
   ]
  },
  {
   "cell_type": "code",
   "execution_count": 6,
   "id": "efe37f1a",
   "metadata": {},
   "outputs": [],
   "source": [
    "my_account = BankAccount(\"123456789\", 1000, 'Chinelo Musa')"
   ]
  },
  {
   "cell_type": "code",
   "execution_count": 7,
   "id": "40457130",
   "metadata": {},
   "outputs": [
    {
     "data": {
      "text/plain": [
       "6000"
      ]
     },
     "execution_count": 7,
     "metadata": {},
     "output_type": "execute_result"
    }
   ],
   "source": [
    "my_account.deposit(5000)\n",
    "my_account.get_balance()"
   ]
  },
  {
   "cell_type": "code",
   "execution_count": 9,
   "id": "3f5d5ea5",
   "metadata": {},
   "outputs": [
    {
     "data": {
      "text/plain": [
       "'123456789'"
      ]
     },
     "execution_count": 9,
     "metadata": {},
     "output_type": "execute_result"
    }
   ],
   "source": [
    "my_account.account_number"
   ]
  },
  {
   "cell_type": "code",
   "execution_count": 10,
   "id": "88b7b079",
   "metadata": {},
   "outputs": [
    {
     "name": "stdout",
     "output_type": "stream",
     "text": [
      "1300\n"
     ]
    }
   ],
   "source": [
    "# Creating an object of BankAccount\n",
    "account = BankAccount(\"123456789\", 1000, 'Aishat Kabir')\n",
    "account.deposit(500)\n",
    "account.withdraw(200)\n",
    "print(account.get_balance())  # Output: 1300"
   ]
  },
  {
   "cell_type": "code",
   "execution_count": 11,
   "id": "91222992",
   "metadata": {},
   "outputs": [
    {
     "data": {
      "text/plain": [
       "'Aishat Kabir'"
      ]
     },
     "execution_count": 11,
     "metadata": {},
     "output_type": "execute_result"
    }
   ],
   "source": [
    "account.account_holder"
   ]
  },
  {
   "cell_type": "code",
   "execution_count": null,
   "id": "9d89cf7d",
   "metadata": {},
   "outputs": [],
   "source": []
  }
 ],
 "metadata": {
  "kernelspec": {
   "display_name": "Python 3",
   "language": "python",
   "name": "python3"
  },
  "language_info": {
   "codemirror_mode": {
    "name": "ipython",
    "version": 3
   },
   "file_extension": ".py",
   "mimetype": "text/x-python",
   "name": "python",
   "nbconvert_exporter": "python",
   "pygments_lexer": "ipython3",
   "version": "3.8.8"
  }
 },
 "nbformat": 4,
 "nbformat_minor": 5
}
